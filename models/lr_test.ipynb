{
 "cells": [
  {
   "cell_type": "code",
   "execution_count": 1,
   "metadata": {},
   "outputs": [
    {
     "name": "stderr",
     "output_type": "stream",
     "text": [
      "nbconvert: command not found\n",
      "\r"
     ]
    }
   ],
   "source": [
    "# %pip list\n",
    "!jupyter nbconvert --to script lr_test.ipynb\n"
   ]
  },
  {
   "cell_type": "code",
   "execution_count": 2,
   "metadata": {},
   "outputs": [],
   "source": [
    "# Basic setup\n",
    "import numpy as np\n",
    "import pandas as pd\n",
    "%matplotlib inline"
   ]
  },
  {
   "cell_type": "code",
   "execution_count": 3,
   "metadata": {},
   "outputs": [],
   "source": [
    "# %pip install yfinance"
   ]
  },
  {
   "cell_type": "code",
   "execution_count": 4,
   "metadata": {},
   "outputs": [
    {
     "name": "stdout",
     "output_type": "stream",
     "text": [
      "README.md\t\tdemo.py\t\t\tnasdaqlisted.txt\n",
      "\u001b[1m\u001b[34mbayesian\u001b[39;49m\u001b[0m/\t\tfeatures.py\t\tsomeData.pkl\n",
      "data.py\t\t\tlr_test.ipynb\n",
      "\r"
     ]
    }
   ],
   "source": [
    "ls"
   ]
  },
  {
   "cell_type": "markdown",
   "metadata": {},
   "source": [
    "## A few reminder examples of plotting and running a script"
   ]
  },
  {
   "cell_type": "code",
   "execution_count": 5,
   "metadata": {},
   "outputs": [],
   "source": [
    "# %matplotlib inline\n",
    "# import numpy as np\n",
    "# import matplotlib.pyplot as plt\n",
    "\n",
    "# t = np.arange(0, 5, 0.2)\n",
    "# plt.plot(t, t, 'r--', t, t**2, 'bs', t, t**3, 'g^')\n",
    "# plt.show()"
   ]
  },
  {
   "cell_type": "code",
   "execution_count": 6,
   "metadata": {},
   "outputs": [],
   "source": [
    "# %run demo.py"
   ]
  },
  {
   "cell_type": "markdown",
   "metadata": {},
   "source": [
    "## Load Nasdaq summary of Symbols"
   ]
  },
  {
   "cell_type": "code",
   "execution_count": 7,
   "metadata": {
    "scrolled": false
   },
   "outputs": [
    {
     "name": "stdout",
     "output_type": "stream",
     "text": [
      "  Symbol                                      Security Name Market Category  \\\n",
      "0   AACG  ATA Creativity Global - American Depositary Sh...               G   \n",
      "1  AACIU                  Armada Acquisition Corp. I - Unit               G   \n",
      "2   AADI               Aadi Bioscience, Inc. - Common Stock               S   \n",
      "3   AADR                AdvisorShares Dorsey Wright ADR ETF               G   \n",
      "4    AAL       American Airlines Group, Inc. - Common Stock               Q   \n",
      "\n",
      "  Test Issue Financial Status  Round Lot Size ETF NextShares  \n",
      "0          N                N             100   N          N  \n",
      "1          N                N             100   N          N  \n",
      "2          N                N             100   N          N  \n",
      "3          N                N             100   Y          N  \n",
      "4          N                N             100   N          N  \n"
     ]
    }
   ],
   "source": [
    "nasdaq = pd.read_csv('nasdaqlisted.txt', delimiter='|')\n",
    "print(nasdaq.head())\n"
   ]
  },
  {
   "cell_type": "markdown",
   "metadata": {},
   "source": [
    "## Decide on training and validation sets"
   ]
  },
  {
   "cell_type": "code",
   "execution_count": 48,
   "metadata": {},
   "outputs": [
    {
     "name": "stdout",
     "output_type": "stream",
     "text": [
      "Train symbols:  ['JYAC', 'XEL', 'LEGAU', 'AFYA', 'IEUS', 'COLL', 'DTOCU', 'BLDEW', 'CAAS', 'BANX', 'EH', 'EVOP', 'BUSE', 'INBKL', 'SCLEW', 'GMDA', 'MRBK', 'CASY', 'RGLS', 'TAOP', 'FIBK', 'HPK', 'ARRWU', 'TRS', 'LDEM', 'APMIU', 'HYZNW', 'INOD', 'TCBC', 'TANH', 'MACUW', 'COMS', 'BSCS', 'TOMZ', 'LIND', 'GCACU', 'VNDA', 'XPDI', 'FTPAU', 'HCARU', 'ZIVOW', 'BSDE', 'FTAG', 'CIGI', 'CKPT', 'EWEB', 'CMMB', 'ALAC', 'VIA', 'CLBS', 'VWTR', 'CFFI', 'UK', 'TER', 'GMTX', 'EBIX', 'EVGO', 'MRSN', 'NGCA', 'MYMD', 'CCMP', 'MCHI', 'CAN', 'HYMCW', 'DOMO', 'CMLT', 'BRCN', 'HCDIP', 'EQ', 'ATHA'] \n",
      "\n",
      "Val symbols:  ['OMCL', 'CPLP', 'CHPMU', 'CINF', 'DCBO', 'CASA', 'PMD', 'LNT', 'SRNGW', 'AGCUU', 'SXTC', 'AXTI', 'TANNL', 'EA', 'MARPS', 'UXIN', 'JUGGW', 'GGMC', 'KAIRU', 'AUVIP', 'MIME', 'FGBI', 'TREE', 'SPRX', 'RUTH', 'RXRAW', 'SOCL', 'XNET', 'ACBA', 'VLDRW']\n"
     ]
    }
   ],
   "source": [
    "Ntotal = 100\n",
    "Ntrain = 70\n",
    "\n",
    "symbols = nasdaq['Symbol'].sample(Ntotal)\n",
    "\n",
    "symbols_train = list(symbols[:Ntrain].values)\n",
    "symbols_val= list(symbols[Ntrain:].values)\n",
    "\n",
    "print( \"Train symbols: \", symbols_train, '\\n')\n",
    "print( \"Val symbols: \", symbols_val)"
   ]
  },
  {
   "cell_type": "markdown",
   "metadata": {},
   "source": [
    "## Download and format historical data\n",
    "- download the data\n",
    "- generate features of interest and labels\n",
    "- concatenate into a large dataframe\n"
   ]
  },
  {
   "cell_type": "code",
   "execution_count": 49,
   "metadata": {},
   "outputs": [],
   "source": [
    "import yfinance as yf\n",
    "# from features import addFeatures"
   ]
  },
  {
   "cell_type": "code",
   "execution_count": 50,
   "metadata": {},
   "outputs": [],
   "source": [
    "\n",
    "\n",
    "\n",
    "def addFeatures( tickerDf, closingRollAvgInterval_D = 7, \n",
    "                 dailyChangeRollAvgInterval_D = 7, delay = -14):  # days):\n",
    "\n",
    "    #     delay in days, negative value \n",
    "\n",
    "    # make Data a value you can work with\n",
    "    tickerDf.reset_index(inplace=True)\n",
    "\n",
    "    # --------\n",
    "    # daily change features\n",
    "    #   rolling average, rolling std.\n",
    "    tickerDf['DailyChange'] = tickerDf['Close'] - tickerDf['Open']\n",
    "    tickerDf['DailyChangeMean'] = tickerDf.rolling(\n",
    "        f\"{dailyChangeRollAvgInterval_D}D\", on='Date')['DailyChange'].mean()\n",
    "    tickerDf['DailyChangeStd'] = tickerDf.rolling(\n",
    "        f\"{dailyChangeRollAvgInterval_D}D\", on='Date')['DailyChange'].std()\n",
    "\n",
    "\n",
    "    # ------\n",
    "    # closing mean features ( for estimating good/bad at a delay)\n",
    "    #   rolling average closing mean\n",
    "    tickerDf['CloseAvg'] = tickerDf.rolling(\n",
    "        f\"{closingRollAvgInterval_D}D\", on='Date')['Close'].mean()\n",
    "\n",
    "\n",
    "    # -------------------------\n",
    "    # Time delay of moving average closing\n",
    "    #   For identifying good/bad\n",
    "\n",
    "\n",
    "    tickerDf['CloseAvgDelayed'] = tickerDf['CloseAvg'].shift(\n",
    "        periods=delay, fill_value=np.nan)\n",
    "    tickerDf['CloseFutureChange'] = tickerDf['CloseAvgDelayed'] - tickerDf['Close']\n",
    "\n",
    "    # If the average is up at the delay, then good (else bad)\n",
    "    tickerDf['Good'] = 0  # preset all bad\n",
    "    tickerDf.loc[tickerDf['CloseFutureChange'] > 0, 'Good'] = 1\n",
    "\n",
    "    # clean for return\n",
    "    tickerDf.dropna(inplace=True)\n",
    "    # tickerDf_updated = tickerDf\n",
    "    return tickerDf\n"
   ]
  },
  {
   "cell_type": "code",
   "execution_count": 51,
   "metadata": {},
   "outputs": [],
   "source": [
    "# ticker = yf.Ticker(symbols_train[0])\n",
    "# tDF = ticker.history(period='1d', start='2010-1-1', end='2020-1-25')\n",
    "# tDF.reset_index(inplace=True)"
   ]
  },
  {
   "cell_type": "code",
   "execution_count": 52,
   "metadata": {},
   "outputs": [],
   "source": [
    "\n",
    "# tDF"
   ]
  },
  {
   "cell_type": "code",
   "execution_count": null,
   "metadata": {},
   "outputs": [],
   "source": []
  },
  {
   "cell_type": "code",
   "execution_count": 53,
   "metadata": {},
   "outputs": [],
   "source": [
    "def getSymbolDF( symbols):\n",
    "    ticker_df_list = []\n",
    "    for tickerStr in symbols:\n",
    "        ticker = yf.Ticker(tickerStr)\n",
    "        tDF = ticker.history(period='1d', start='2020-1-1', end='2021-8-25')\n",
    "        #         tDF = ticker.history(period='1d', start='2010-1-1', end='2020-1-25')\n",
    "        tDF = addFeatures(tDF)\n",
    "        ticker_df_list.append(addFeatures(tDF) )\n",
    "    \n",
    "    df = pd.concat(ticker_df_list)        \n",
    "    return df"
   ]
  },
  {
   "cell_type": "code",
   "execution_count": 54,
   "metadata": {},
   "outputs": [
    {
     "name": "stdout",
     "output_type": "stream",
     "text": [
      "- BLDEW: No data found for this date range, symbol may be delisted\n",
      "- SCLEW: No data found for this date range, symbol may be delisted\n",
      "- HYZNW: No data found for this date range, symbol may be delisted\n",
      "- MACUW: No data found for this date range, symbol may be delisted\n",
      "- ZIVOW: No data found for this date range, symbol may be delisted\n",
      "- HYMCW: No data found for this date range, symbol may be delisted\n",
      "- JUGGW: No data found for this date range, symbol may be delisted\n",
      "- RXRAW: No data found for this date range, symbol may be delisted\n"
     ]
    }
   ],
   "source": [
    "trainDF = getSymbolDF( symbols_train )\n",
    "valDF = getSymbolDF( symbols_val )\n",
    "\n",
    "trainDF.to_pickle( 'train.pkl')\n",
    "valDF.to_pickle( 'val.pkl')"
   ]
  },
  {
   "cell_type": "code",
   "execution_count": 57,
   "metadata": {},
   "outputs": [
    {
     "data": {
      "text/html": [
       "<div>\n",
       "<style scoped>\n",
       "    .dataframe tbody tr th:only-of-type {\n",
       "        vertical-align: middle;\n",
       "    }\n",
       "\n",
       "    .dataframe tbody tr th {\n",
       "        vertical-align: top;\n",
       "    }\n",
       "\n",
       "    .dataframe thead th {\n",
       "        text-align: right;\n",
       "    }\n",
       "</style>\n",
       "<table border=\"1\" class=\"dataframe\">\n",
       "  <thead>\n",
       "    <tr style=\"text-align: right;\">\n",
       "      <th></th>\n",
       "      <th>index</th>\n",
       "      <th>Date</th>\n",
       "      <th>Open</th>\n",
       "      <th>High</th>\n",
       "      <th>Low</th>\n",
       "      <th>Close</th>\n",
       "      <th>Volume</th>\n",
       "      <th>Dividends</th>\n",
       "      <th>Stock Splits</th>\n",
       "      <th>DailyChange</th>\n",
       "      <th>DailyChangeMean</th>\n",
       "      <th>DailyChangeStd</th>\n",
       "      <th>CloseAvg</th>\n",
       "      <th>CloseAvgDelayed</th>\n",
       "      <th>CloseFutureChange</th>\n",
       "      <th>Good</th>\n",
       "      <th>Adj Close</th>\n",
       "    </tr>\n",
       "  </thead>\n",
       "  <tbody>\n",
       "    <tr>\n",
       "      <th>1</th>\n",
       "      <td>2</td>\n",
       "      <td>2020-11-23</td>\n",
       "      <td>10.00</td>\n",
       "      <td>10.000</td>\n",
       "      <td>9.90</td>\n",
       "      <td>10.00</td>\n",
       "      <td>49600.0</td>\n",
       "      <td>0.0</td>\n",
       "      <td>0.0</td>\n",
       "      <td>0.00</td>\n",
       "      <td>-0.025000</td>\n",
       "      <td>0.035355</td>\n",
       "      <td>10.0000</td>\n",
       "      <td>10.140</td>\n",
       "      <td>0.140</td>\n",
       "      <td>1</td>\n",
       "      <td>NaN</td>\n",
       "    </tr>\n",
       "    <tr>\n",
       "      <th>2</th>\n",
       "      <td>3</td>\n",
       "      <td>2020-11-24</td>\n",
       "      <td>9.91</td>\n",
       "      <td>10.000</td>\n",
       "      <td>9.90</td>\n",
       "      <td>10.00</td>\n",
       "      <td>75500.0</td>\n",
       "      <td>0.0</td>\n",
       "      <td>0.0</td>\n",
       "      <td>0.09</td>\n",
       "      <td>0.013333</td>\n",
       "      <td>0.070946</td>\n",
       "      <td>10.0000</td>\n",
       "      <td>10.180</td>\n",
       "      <td>0.180</td>\n",
       "      <td>1</td>\n",
       "      <td>NaN</td>\n",
       "    </tr>\n",
       "    <tr>\n",
       "      <th>3</th>\n",
       "      <td>4</td>\n",
       "      <td>2020-11-25</td>\n",
       "      <td>9.97</td>\n",
       "      <td>10.000</td>\n",
       "      <td>9.92</td>\n",
       "      <td>10.00</td>\n",
       "      <td>114900.0</td>\n",
       "      <td>0.0</td>\n",
       "      <td>0.0</td>\n",
       "      <td>0.03</td>\n",
       "      <td>0.017500</td>\n",
       "      <td>0.058524</td>\n",
       "      <td>10.0000</td>\n",
       "      <td>10.210</td>\n",
       "      <td>0.210</td>\n",
       "      <td>1</td>\n",
       "      <td>NaN</td>\n",
       "    </tr>\n",
       "    <tr>\n",
       "      <th>4</th>\n",
       "      <td>5</td>\n",
       "      <td>2020-11-27</td>\n",
       "      <td>10.00</td>\n",
       "      <td>10.000</td>\n",
       "      <td>9.96</td>\n",
       "      <td>10.00</td>\n",
       "      <td>32000.0</td>\n",
       "      <td>0.0</td>\n",
       "      <td>0.0</td>\n",
       "      <td>0.00</td>\n",
       "      <td>0.030000</td>\n",
       "      <td>0.042426</td>\n",
       "      <td>10.0000</td>\n",
       "      <td>10.238</td>\n",
       "      <td>0.238</td>\n",
       "      <td>1</td>\n",
       "      <td>NaN</td>\n",
       "    </tr>\n",
       "    <tr>\n",
       "      <th>5</th>\n",
       "      <td>6</td>\n",
       "      <td>2020-11-30</td>\n",
       "      <td>9.98</td>\n",
       "      <td>10.000</td>\n",
       "      <td>9.90</td>\n",
       "      <td>9.91</td>\n",
       "      <td>331300.0</td>\n",
       "      <td>0.0</td>\n",
       "      <td>0.0</td>\n",
       "      <td>-0.07</td>\n",
       "      <td>0.012500</td>\n",
       "      <td>0.066521</td>\n",
       "      <td>9.9775</td>\n",
       "      <td>10.250</td>\n",
       "      <td>0.340</td>\n",
       "      <td>1</td>\n",
       "      <td>NaN</td>\n",
       "    </tr>\n",
       "    <tr>\n",
       "      <th>...</th>\n",
       "      <td>...</td>\n",
       "      <td>...</td>\n",
       "      <td>...</td>\n",
       "      <td>...</td>\n",
       "      <td>...</td>\n",
       "      <td>...</td>\n",
       "      <td>...</td>\n",
       "      <td>...</td>\n",
       "      <td>...</td>\n",
       "      <td>...</td>\n",
       "      <td>...</td>\n",
       "      <td>...</td>\n",
       "      <td>...</td>\n",
       "      <td>...</td>\n",
       "      <td>...</td>\n",
       "      <td>...</td>\n",
       "      <td>...</td>\n",
       "    </tr>\n",
       "    <tr>\n",
       "      <th>201</th>\n",
       "      <td>202</td>\n",
       "      <td>2021-07-09</td>\n",
       "      <td>10.72</td>\n",
       "      <td>11.050</td>\n",
       "      <td>10.57</td>\n",
       "      <td>10.89</td>\n",
       "      <td>617000.0</td>\n",
       "      <td>0.0</td>\n",
       "      <td>0.0</td>\n",
       "      <td>0.17</td>\n",
       "      <td>0.127500</td>\n",
       "      <td>0.349893</td>\n",
       "      <td>10.7725</td>\n",
       "      <td>10.020</td>\n",
       "      <td>-0.870</td>\n",
       "      <td>0</td>\n",
       "      <td>NaN</td>\n",
       "    </tr>\n",
       "    <tr>\n",
       "      <th>202</th>\n",
       "      <td>203</td>\n",
       "      <td>2021-07-12</td>\n",
       "      <td>10.88</td>\n",
       "      <td>11.010</td>\n",
       "      <td>10.43</td>\n",
       "      <td>10.50</td>\n",
       "      <td>479200.0</td>\n",
       "      <td>0.0</td>\n",
       "      <td>0.0</td>\n",
       "      <td>-0.38</td>\n",
       "      <td>0.026000</td>\n",
       "      <td>0.378589</td>\n",
       "      <td>10.7180</td>\n",
       "      <td>9.904</td>\n",
       "      <td>-0.596</td>\n",
       "      <td>0</td>\n",
       "      <td>NaN</td>\n",
       "    </tr>\n",
       "    <tr>\n",
       "      <th>203</th>\n",
       "      <td>204</td>\n",
       "      <td>2021-07-13</td>\n",
       "      <td>10.65</td>\n",
       "      <td>11.300</td>\n",
       "      <td>10.46</td>\n",
       "      <td>10.69</td>\n",
       "      <td>853900.0</td>\n",
       "      <td>0.0</td>\n",
       "      <td>0.0</td>\n",
       "      <td>0.04</td>\n",
       "      <td>-0.054000</td>\n",
       "      <td>0.304187</td>\n",
       "      <td>10.6560</td>\n",
       "      <td>9.878</td>\n",
       "      <td>-0.812</td>\n",
       "      <td>0</td>\n",
       "      <td>NaN</td>\n",
       "    </tr>\n",
       "    <tr>\n",
       "      <th>204</th>\n",
       "      <td>205</td>\n",
       "      <td>2021-07-14</td>\n",
       "      <td>10.81</td>\n",
       "      <td>10.840</td>\n",
       "      <td>9.95</td>\n",
       "      <td>10.01</td>\n",
       "      <td>1277200.0</td>\n",
       "      <td>0.0</td>\n",
       "      <td>0.0</td>\n",
       "      <td>-0.80</td>\n",
       "      <td>-0.140000</td>\n",
       "      <td>0.444353</td>\n",
       "      <td>10.5320</td>\n",
       "      <td>9.930</td>\n",
       "      <td>-0.080</td>\n",
       "      <td>0</td>\n",
       "      <td>NaN</td>\n",
       "    </tr>\n",
       "    <tr>\n",
       "      <th>205</th>\n",
       "      <td>206</td>\n",
       "      <td>2021-07-15</td>\n",
       "      <td>10.05</td>\n",
       "      <td>10.185</td>\n",
       "      <td>9.73</td>\n",
       "      <td>9.92</td>\n",
       "      <td>1277500.0</td>\n",
       "      <td>0.0</td>\n",
       "      <td>0.0</td>\n",
       "      <td>-0.13</td>\n",
       "      <td>-0.220000</td>\n",
       "      <td>0.383992</td>\n",
       "      <td>10.4020</td>\n",
       "      <td>9.900</td>\n",
       "      <td>-0.020</td>\n",
       "      <td>0</td>\n",
       "      <td>NaN</td>\n",
       "    </tr>\n",
       "  </tbody>\n",
       "</table>\n",
       "<p>19331 rows × 17 columns</p>\n",
       "</div>"
      ],
      "text/plain": [
       "     index       Date   Open    High    Low  Close     Volume  Dividends  \\\n",
       "1        2 2020-11-23  10.00  10.000   9.90  10.00    49600.0        0.0   \n",
       "2        3 2020-11-24   9.91  10.000   9.90  10.00    75500.0        0.0   \n",
       "3        4 2020-11-25   9.97  10.000   9.92  10.00   114900.0        0.0   \n",
       "4        5 2020-11-27  10.00  10.000   9.96  10.00    32000.0        0.0   \n",
       "5        6 2020-11-30   9.98  10.000   9.90   9.91   331300.0        0.0   \n",
       "..     ...        ...    ...     ...    ...    ...        ...        ...   \n",
       "201    202 2021-07-09  10.72  11.050  10.57  10.89   617000.0        0.0   \n",
       "202    203 2021-07-12  10.88  11.010  10.43  10.50   479200.0        0.0   \n",
       "203    204 2021-07-13  10.65  11.300  10.46  10.69   853900.0        0.0   \n",
       "204    205 2021-07-14  10.81  10.840   9.95  10.01  1277200.0        0.0   \n",
       "205    206 2021-07-15  10.05  10.185   9.73   9.92  1277500.0        0.0   \n",
       "\n",
       "     Stock Splits  DailyChange  DailyChangeMean  DailyChangeStd  CloseAvg  \\\n",
       "1             0.0         0.00        -0.025000        0.035355   10.0000   \n",
       "2             0.0         0.09         0.013333        0.070946   10.0000   \n",
       "3             0.0         0.03         0.017500        0.058524   10.0000   \n",
       "4             0.0         0.00         0.030000        0.042426   10.0000   \n",
       "5             0.0        -0.07         0.012500        0.066521    9.9775   \n",
       "..            ...          ...              ...             ...       ...   \n",
       "201           0.0         0.17         0.127500        0.349893   10.7725   \n",
       "202           0.0        -0.38         0.026000        0.378589   10.7180   \n",
       "203           0.0         0.04        -0.054000        0.304187   10.6560   \n",
       "204           0.0        -0.80        -0.140000        0.444353   10.5320   \n",
       "205           0.0        -0.13        -0.220000        0.383992   10.4020   \n",
       "\n",
       "     CloseAvgDelayed  CloseFutureChange  Good  Adj Close  \n",
       "1             10.140              0.140     1        NaN  \n",
       "2             10.180              0.180     1        NaN  \n",
       "3             10.210              0.210     1        NaN  \n",
       "4             10.238              0.238     1        NaN  \n",
       "5             10.250              0.340     1        NaN  \n",
       "..               ...                ...   ...        ...  \n",
       "201           10.020             -0.870     0        NaN  \n",
       "202            9.904             -0.596     0        NaN  \n",
       "203            9.878             -0.812     0        NaN  \n",
       "204            9.930             -0.080     0        NaN  \n",
       "205            9.900             -0.020     0        NaN  \n",
       "\n",
       "[19331 rows x 17 columns]"
      ]
     },
     "execution_count": 57,
     "metadata": {},
     "output_type": "execute_result"
    }
   ],
   "source": [
    "trainDF"
   ]
  },
  {
   "cell_type": "markdown",
   "metadata": {},
   "source": [
    "## Build a simple predictive model"
   ]
  },
  {
   "cell_type": "code",
   "execution_count": 58,
   "metadata": {},
   "outputs": [],
   "source": [
    "from sklearn.linear_model import LogisticRegression\n",
    "\n",
    "\n",
    "\n",
    "# clf = LogisticRegression(random_state=0).fit(X, y)\n",
    "# clf.predict(X[:2, :])\n",
    "# clf.predict_proba(X[:2, :])\n",
    "# clf.score(X, y)"
   ]
  },
  {
   "cell_type": "code",
   "execution_count": 59,
   "metadata": {},
   "outputs": [],
   "source": [
    "feats = [\"DailyChangeMean\", \"DailyChangeStd\",\"CloseFutureChange\" ]\n",
    "target = \"Good\""
   ]
  },
  {
   "cell_type": "code",
   "execution_count": 64,
   "metadata": {},
   "outputs": [],
   "source": [
    "X = trainDF[feats]\n",
    "y = trainDF[target]"
   ]
  },
  {
   "cell_type": "code",
   "execution_count": 65,
   "metadata": {},
   "outputs": [],
   "source": [
    "clf = LogisticRegression(random_state=0).fit(X, y)"
   ]
  },
  {
   "cell_type": "code",
   "execution_count": 67,
   "metadata": {},
   "outputs": [
    {
     "name": "stdout",
     "output_type": "stream",
     "text": [
      "Training set accuracy: 0.9962754125497905\n"
     ]
    }
   ],
   "source": [
    "s = clf.score(X,y)\n",
    "print( f\"Training set accuracy: {s}\")"
   ]
  },
  {
   "cell_type": "markdown",
   "metadata": {},
   "source": [
    "## Check generalization"
   ]
  },
  {
   "cell_type": "code",
   "execution_count": 68,
   "metadata": {},
   "outputs": [],
   "source": [
    "X_val = valDF[feats]\n",
    "y_val = valDF[target]"
   ]
  },
  {
   "cell_type": "code",
   "execution_count": 70,
   "metadata": {},
   "outputs": [
    {
     "name": "stdout",
     "output_type": "stream",
     "text": [
      "Validation set accuracy: 0.9965490797546013\n"
     ]
    }
   ],
   "source": [
    "s = clf.score(X_val,y_val)\n",
    "print( f\"Validation set accuracy: {s}\")"
   ]
  },
  {
   "cell_type": "markdown",
   "metadata": {},
   "source": [
    "## Visualize and Exploratory Data Analysis (EDA)\n"
   ]
  },
  {
   "cell_type": "code",
   "execution_count": null,
   "metadata": {},
   "outputs": [],
   "source": []
  }
 ],
 "metadata": {
  "kernelspec": {
   "display_name": "Python 3",
   "language": "python",
   "name": "python3"
  },
  "language_info": {
   "codemirror_mode": {
    "name": "ipython",
    "version": 3
   },
   "file_extension": ".py",
   "mimetype": "text/x-python",
   "name": "python",
   "nbconvert_exporter": "python",
   "pygments_lexer": "ipython3",
   "version": "3.9.2+"
  }
 },
 "nbformat": 4,
 "nbformat_minor": 2
}
