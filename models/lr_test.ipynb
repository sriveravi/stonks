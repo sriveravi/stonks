{
 "cells": [
  {
   "cell_type": "code",
   "execution_count": 1,
   "metadata": {},
   "outputs": [],
   "source": [
    "# %pip list\n",
    "#!jupyter nbconvert --to script lr_test.ipynb\n"
   ]
  },
  {
   "cell_type": "code",
   "execution_count": 2,
   "metadata": {},
   "outputs": [],
   "source": [
    "# Basic setup\n",
    "import numpy as np\n",
    "import pandas as pd\n",
    "%matplotlib inline"
   ]
  },
  {
   "cell_type": "code",
   "execution_count": 3,
   "metadata": {},
   "outputs": [],
   "source": [
    "# %pip install yfinance"
   ]
  },
  {
   "cell_type": "code",
   "execution_count": 4,
   "metadata": {},
   "outputs": [
    {
     "name": "stdout",
     "output_type": "stream",
     "text": [
      "README.md\t\tfeatures.py\t\tsomeData.pkl\n",
      "\u001b[1m\u001b[34mbayesian\u001b[39;49m\u001b[0m/\t\tlr_test.ipynb\t\ttrain.pkl\n",
      "data.py\t\t\tlr_test.py\t\tval.pkl\n",
      "demo.py\t\t\tnasdaqlisted.txt\n",
      "\r"
     ]
    }
   ],
   "source": [
    "ls"
   ]
  },
  {
   "cell_type": "markdown",
   "metadata": {},
   "source": [
    "## A few reminder examples of plotting and running a script"
   ]
  },
  {
   "cell_type": "code",
   "execution_count": 5,
   "metadata": {},
   "outputs": [],
   "source": [
    "# %matplotlib inline\n",
    "# import numpy as np\n",
    "# import matplotlib.pyplot as plt\n",
    "\n",
    "# t = np.arange(0, 5, 0.2)\n",
    "# plt.plot(t, t, 'r--', t, t**2, 'bs', t, t**3, 'g^')\n",
    "# plt.show()"
   ]
  },
  {
   "cell_type": "code",
   "execution_count": 6,
   "metadata": {},
   "outputs": [],
   "source": [
    "# %run demo.py"
   ]
  },
  {
   "cell_type": "markdown",
   "metadata": {},
   "source": [
    "## Load Nasdaq summary of Symbols"
   ]
  },
  {
   "cell_type": "code",
   "execution_count": 7,
   "metadata": {
    "scrolled": false
   },
   "outputs": [
    {
     "name": "stdout",
     "output_type": "stream",
     "text": [
      "  Symbol                                      Security Name Market Category  \\\n",
      "0   AACG  ATA Creativity Global - American Depositary Sh...               G   \n",
      "1  AACIU                  Armada Acquisition Corp. I - Unit               G   \n",
      "2   AADI               Aadi Bioscience, Inc. - Common Stock               S   \n",
      "3   AADR                AdvisorShares Dorsey Wright ADR ETF               G   \n",
      "4    AAL       American Airlines Group, Inc. - Common Stock               Q   \n",
      "\n",
      "  Test Issue Financial Status  Round Lot Size ETF NextShares  \n",
      "0          N                N             100   N          N  \n",
      "1          N                N             100   N          N  \n",
      "2          N                N             100   N          N  \n",
      "3          N                N             100   Y          N  \n",
      "4          N                N             100   N          N  \n"
     ]
    }
   ],
   "source": [
    "nasdaq = pd.read_csv('nasdaqlisted.txt', delimiter='|')\n",
    "print(nasdaq.head())\n"
   ]
  },
  {
   "cell_type": "markdown",
   "metadata": {},
   "source": [
    "## Decide on training and validation sets"
   ]
  },
  {
   "cell_type": "code",
   "execution_count": 8,
   "metadata": {},
   "outputs": [
    {
     "name": "stdout",
     "output_type": "stream",
     "text": [
      "Train symbols:  ['RXRA', 'LNSR', 'BSMT', 'SMH', 'VCKAU', 'ALT', 'MSON', 'URGN', 'PCSA', 'VIAC', 'PWFL', 'FLMN', 'CPTAG', 'ONVO', 'COMSW', 'MLAB', 'GLAD', 'PAYS', 'KLAC', 'VIHAU', 'ZNTEU', 'OCGN', 'HYRE', 'GLBS', 'BHFAN', 'HOFT', 'QTR', 'GWII', 'PWP', 'FITBP', 'PSCI', 'STFC', 'SVVC', 'CENTA', 'DARE', 'ZVO', 'GCACU', 'CYXTW', 'LFVN', 'METC', 'LAMR', 'ZXYZ.A', 'JANX', 'AEY', 'QUIK', 'ESGRO', 'IMGN', 'PACX', 'NXTC', 'FWP', 'TVACU', 'PBIP', 'EPHYU', 'PFG', 'DLTR', 'AXNX', 'LVRAW', 'MON', 'TCDA', 'SGMA', 'EVBG', 'OTMO', 'WDC', 'TRON', 'PDCE', 'KPTI', 'SFIX', 'LSXMK', 'SKYA', 'CELC'] \n",
      "\n",
      "Val symbols:  ['EACPU', 'ESSCW', 'NUWE', 'KLXE', 'ADSK', 'AIH', 'CMBM', 'PBTS', 'EYES', 'OCCIP', 'PLCE', 'IDRA', 'BSAE', 'LMNL', 'GANX', 'WDFC', 'SILK', 'AIRR', 'ESLT', 'SOLOW', 'OCG', 'MRCY', 'BSMN', 'EJFAU', 'SGAM', 'IMXI', 'FAD', 'CUE', 'SLCR', 'ANPC']\n"
     ]
    }
   ],
   "source": [
    "Ntotal = 100\n",
    "Ntrain = 70\n",
    "\n",
    "symbols = nasdaq['Symbol'].sample(Ntotal)\n",
    "\n",
    "symbols_train = list(symbols[:Ntrain].values)\n",
    "symbols_val= list(symbols[Ntrain:].values)\n",
    "\n",
    "print( \"Train symbols: \", symbols_train, '\\n')\n",
    "print( \"Val symbols: \", symbols_val)"
   ]
  },
  {
   "cell_type": "markdown",
   "metadata": {},
   "source": [
    "## Download and format historical data\n",
    "- download the data\n",
    "- generate features of interest and labels\n",
    "- concatenate into a large dataframe\n"
   ]
  },
  {
   "cell_type": "code",
   "execution_count": 9,
   "metadata": {},
   "outputs": [],
   "source": [
    "import yfinance as yf\n",
    "# from features import addFeatures"
   ]
  },
  {
   "cell_type": "code",
   "execution_count": 10,
   "metadata": {},
   "outputs": [],
   "source": [
    "\n",
    "\n",
    "\n",
    "def addFeatures( tickerDf, closingRollAvgInterval_D = 7, \n",
    "                 dailyChangeRollAvgInterval_D = 7, delay = -14):  # days):\n",
    "\n",
    "    #     delay in days, negative value \n",
    "\n",
    "    # make Data a value you can work with\n",
    "    tickerDf.reset_index(inplace=True)\n",
    "\n",
    "    # --------\n",
    "    # daily change features\n",
    "    #   rolling average, rolling std.\n",
    "    tickerDf['DailyChange'] = tickerDf['Close'] - tickerDf['Open']\n",
    "    tickerDf['DailyChangeMean'] = tickerDf.rolling(\n",
    "        f\"{dailyChangeRollAvgInterval_D}D\", on='Date')['DailyChange'].mean()\n",
    "    tickerDf['DailyChangeStd'] = tickerDf.rolling(\n",
    "        f\"{dailyChangeRollAvgInterval_D}D\", on='Date')['DailyChange'].std()\n",
    "\n",
    "\n",
    "    # ------\n",
    "    # closing mean features ( for estimating good/bad at a delay)\n",
    "    #   rolling average closing mean\n",
    "    tickerDf['CloseAvg'] = tickerDf.rolling(\n",
    "        f\"{closingRollAvgInterval_D}D\", on='Date')['Close'].mean()\n",
    "\n",
    "\n",
    "    # -------------------------\n",
    "    # Time delay of moving average closing\n",
    "    #   For identifying good/bad\n",
    "\n",
    "\n",
    "    tickerDf['CloseAvgDelayed'] = tickerDf['CloseAvg'].shift(\n",
    "        periods=delay, fill_value=np.nan)\n",
    "    tickerDf['CloseFutureChange'] = tickerDf['CloseAvgDelayed'] - tickerDf['Close']\n",
    "\n",
    "    # If the average is up at the delay, then good (else bad)\n",
    "    tickerDf['Good'] = 0  # preset all bad\n",
    "    tickerDf.loc[tickerDf['CloseFutureChange'] > 0, 'Good'] = 1\n",
    "\n",
    "    # clean for return\n",
    "    tickerDf.dropna(inplace=True)\n",
    "    # tickerDf_updated = tickerDf\n",
    "    return tickerDf\n"
   ]
  },
  {
   "cell_type": "code",
   "execution_count": 11,
   "metadata": {},
   "outputs": [],
   "source": [
    "# ticker = yf.Ticker(symbols_train[0])\n",
    "# tDF = ticker.history(period='1d', start='2010-1-1', end='2020-1-25')\n",
    "# tDF.reset_index(inplace=True)"
   ]
  },
  {
   "cell_type": "code",
   "execution_count": 12,
   "metadata": {},
   "outputs": [],
   "source": [
    "\n",
    "# tDF"
   ]
  },
  {
   "cell_type": "code",
   "execution_count": null,
   "metadata": {},
   "outputs": [],
   "source": []
  },
  {
   "cell_type": "code",
   "execution_count": 13,
   "metadata": {},
   "outputs": [],
   "source": [
    "def getSymbolDF( symbols):\n",
    "    ticker_df_list = []\n",
    "    for tickerStr in symbols:\n",
    "        ticker = yf.Ticker(tickerStr)\n",
    "        tDF = ticker.history(period='1d', start='2020-1-1', end='2021-8-25')\n",
    "        #         tDF = ticker.history(period='1d', start='2010-1-1', end='2020-1-25')\n",
    "        tDF = addFeatures(tDF)\n",
    "        ticker_df_list.append(addFeatures(tDF) )\n",
    "    \n",
    "    df = pd.concat(ticker_df_list)        \n",
    "    return df"
   ]
  },
  {
   "cell_type": "code",
   "execution_count": 14,
   "metadata": {},
   "outputs": [
    {
     "name": "stdout",
     "output_type": "stream",
     "text": [
      "- COMSW: No data found for this date range, symbol may be delisted\n",
      "- QTR: Data doesn't exist for startDate = 1577862000, endDate = 1629871200\n",
      "- GWII: Data doesn't exist for startDate = 1577862000, endDate = 1629871200\n",
      "- CYXTW: No data found for this date range, symbol may be delisted\n",
      "- ZXYZ.A: No data found, symbol may be delisted\n",
      "- LVRAW: No data found for this date range, symbol may be delisted\n",
      "- ESSCW: No data found for this date range, symbol may be delisted\n",
      "- SOLOW: No data found for this date range, symbol may be delisted\n"
     ]
    }
   ],
   "source": [
    "trainDF = getSymbolDF( symbols_train )\n",
    "valDF = getSymbolDF( symbols_val )\n",
    "\n",
    "trainDF.to_pickle( 'train.pkl')\n",
    "valDF.to_pickle( 'val.pkl')"
   ]
  },
  {
   "cell_type": "code",
   "execution_count": 15,
   "metadata": {},
   "outputs": [
    {
     "data": {
      "text/html": [
       "<div>\n",
       "<style scoped>\n",
       "    .dataframe tbody tr th:only-of-type {\n",
       "        vertical-align: middle;\n",
       "    }\n",
       "\n",
       "    .dataframe tbody tr th {\n",
       "        vertical-align: top;\n",
       "    }\n",
       "\n",
       "    .dataframe thead th {\n",
       "        text-align: right;\n",
       "    }\n",
       "</style>\n",
       "<table border=\"1\" class=\"dataframe\">\n",
       "  <thead>\n",
       "    <tr style=\"text-align: right;\">\n",
       "      <th></th>\n",
       "      <th>index</th>\n",
       "      <th>Date</th>\n",
       "      <th>Open</th>\n",
       "      <th>High</th>\n",
       "      <th>Low</th>\n",
       "      <th>Close</th>\n",
       "      <th>Volume</th>\n",
       "      <th>Dividends</th>\n",
       "      <th>Stock Splits</th>\n",
       "      <th>DailyChange</th>\n",
       "      <th>DailyChangeMean</th>\n",
       "      <th>DailyChangeStd</th>\n",
       "      <th>CloseAvg</th>\n",
       "      <th>CloseAvgDelayed</th>\n",
       "      <th>CloseFutureChange</th>\n",
       "      <th>Good</th>\n",
       "      <th>Adj Close</th>\n",
       "    </tr>\n",
       "  </thead>\n",
       "  <tbody>\n",
       "    <tr>\n",
       "      <th>1</th>\n",
       "      <td>2</td>\n",
       "      <td>2021-05-03</td>\n",
       "      <td>9.740000</td>\n",
       "      <td>9.750000</td>\n",
       "      <td>9.700000</td>\n",
       "      <td>9.700000</td>\n",
       "      <td>13300.0</td>\n",
       "      <td>0.0</td>\n",
       "      <td>0.0</td>\n",
       "      <td>-0.040000</td>\n",
       "      <td>-0.055000</td>\n",
       "      <td>0.021214</td>\n",
       "      <td>9.700000</td>\n",
       "      <td>9.8000</td>\n",
       "      <td>0.100000</td>\n",
       "      <td>1</td>\n",
       "      <td>NaN</td>\n",
       "    </tr>\n",
       "    <tr>\n",
       "      <th>2</th>\n",
       "      <td>3</td>\n",
       "      <td>2021-05-04</td>\n",
       "      <td>9.700000</td>\n",
       "      <td>9.799000</td>\n",
       "      <td>9.700000</td>\n",
       "      <td>9.750000</td>\n",
       "      <td>103100.0</td>\n",
       "      <td>0.0</td>\n",
       "      <td>0.0</td>\n",
       "      <td>0.050000</td>\n",
       "      <td>-0.020000</td>\n",
       "      <td>0.062450</td>\n",
       "      <td>9.716667</td>\n",
       "      <td>9.8480</td>\n",
       "      <td>0.098000</td>\n",
       "      <td>1</td>\n",
       "      <td>NaN</td>\n",
       "    </tr>\n",
       "    <tr>\n",
       "      <th>3</th>\n",
       "      <td>4</td>\n",
       "      <td>2021-05-05</td>\n",
       "      <td>9.700000</td>\n",
       "      <td>9.760000</td>\n",
       "      <td>9.700000</td>\n",
       "      <td>9.750000</td>\n",
       "      <td>35900.0</td>\n",
       "      <td>0.0</td>\n",
       "      <td>0.0</td>\n",
       "      <td>0.050000</td>\n",
       "      <td>-0.002500</td>\n",
       "      <td>0.061847</td>\n",
       "      <td>9.725000</td>\n",
       "      <td>9.8836</td>\n",
       "      <td>0.133600</td>\n",
       "      <td>1</td>\n",
       "      <td>NaN</td>\n",
       "    </tr>\n",
       "    <tr>\n",
       "      <th>4</th>\n",
       "      <td>5</td>\n",
       "      <td>2021-05-06</td>\n",
       "      <td>9.730000</td>\n",
       "      <td>9.730000</td>\n",
       "      <td>9.730000</td>\n",
       "      <td>9.730000</td>\n",
       "      <td>100.0</td>\n",
       "      <td>0.0</td>\n",
       "      <td>0.0</td>\n",
       "      <td>0.000000</td>\n",
       "      <td>-0.002000</td>\n",
       "      <td>0.053573</td>\n",
       "      <td>9.726000</td>\n",
       "      <td>9.8376</td>\n",
       "      <td>0.107600</td>\n",
       "      <td>1</td>\n",
       "      <td>NaN</td>\n",
       "    </tr>\n",
       "    <tr>\n",
       "      <th>5</th>\n",
       "      <td>6</td>\n",
       "      <td>2021-05-07</td>\n",
       "      <td>9.730000</td>\n",
       "      <td>9.730000</td>\n",
       "      <td>9.730000</td>\n",
       "      <td>9.730000</td>\n",
       "      <td>0.0</td>\n",
       "      <td>0.0</td>\n",
       "      <td>0.0</td>\n",
       "      <td>0.000000</td>\n",
       "      <td>0.012000</td>\n",
       "      <td>0.038341</td>\n",
       "      <td>9.732000</td>\n",
       "      <td>9.8376</td>\n",
       "      <td>0.107600</td>\n",
       "      <td>1</td>\n",
       "      <td>NaN</td>\n",
       "    </tr>\n",
       "    <tr>\n",
       "      <th>...</th>\n",
       "      <td>...</td>\n",
       "      <td>...</td>\n",
       "      <td>...</td>\n",
       "      <td>...</td>\n",
       "      <td>...</td>\n",
       "      <td>...</td>\n",
       "      <td>...</td>\n",
       "      <td>...</td>\n",
       "      <td>...</td>\n",
       "      <td>...</td>\n",
       "      <td>...</td>\n",
       "      <td>...</td>\n",
       "      <td>...</td>\n",
       "      <td>...</td>\n",
       "      <td>...</td>\n",
       "      <td>...</td>\n",
       "      <td>...</td>\n",
       "    </tr>\n",
       "    <tr>\n",
       "      <th>381</th>\n",
       "      <td>382</td>\n",
       "      <td>2021-07-09</td>\n",
       "      <td>24.230000</td>\n",
       "      <td>25.540001</td>\n",
       "      <td>24.230000</td>\n",
       "      <td>24.870001</td>\n",
       "      <td>51100.0</td>\n",
       "      <td>0.0</td>\n",
       "      <td>0.0</td>\n",
       "      <td>0.640001</td>\n",
       "      <td>0.377500</td>\n",
       "      <td>0.580367</td>\n",
       "      <td>24.290000</td>\n",
       "      <td>20.8140</td>\n",
       "      <td>-4.056001</td>\n",
       "      <td>0</td>\n",
       "      <td>NaN</td>\n",
       "    </tr>\n",
       "    <tr>\n",
       "      <th>382</th>\n",
       "      <td>383</td>\n",
       "      <td>2021-07-12</td>\n",
       "      <td>24.879999</td>\n",
       "      <td>24.945999</td>\n",
       "      <td>23.480000</td>\n",
       "      <td>24.120001</td>\n",
       "      <td>64100.0</td>\n",
       "      <td>0.0</td>\n",
       "      <td>0.0</td>\n",
       "      <td>-0.759998</td>\n",
       "      <td>0.150000</td>\n",
       "      <td>0.715122</td>\n",
       "      <td>24.256001</td>\n",
       "      <td>20.4940</td>\n",
       "      <td>-3.626001</td>\n",
       "      <td>0</td>\n",
       "      <td>NaN</td>\n",
       "    </tr>\n",
       "    <tr>\n",
       "      <th>383</th>\n",
       "      <td>384</td>\n",
       "      <td>2021-07-13</td>\n",
       "      <td>23.980000</td>\n",
       "      <td>24.180000</td>\n",
       "      <td>23.105000</td>\n",
       "      <td>23.410000</td>\n",
       "      <td>72800.0</td>\n",
       "      <td>0.0</td>\n",
       "      <td>0.0</td>\n",
       "      <td>-0.570000</td>\n",
       "      <td>-0.007999</td>\n",
       "      <td>0.780109</td>\n",
       "      <td>24.088000</td>\n",
       "      <td>20.4000</td>\n",
       "      <td>-3.010000</td>\n",
       "      <td>0</td>\n",
       "      <td>NaN</td>\n",
       "    </tr>\n",
       "    <tr>\n",
       "      <th>384</th>\n",
       "      <td>385</td>\n",
       "      <td>2021-07-14</td>\n",
       "      <td>23.500000</td>\n",
       "      <td>24.285000</td>\n",
       "      <td>23.290001</td>\n",
       "      <td>23.700001</td>\n",
       "      <td>62100.0</td>\n",
       "      <td>0.0</td>\n",
       "      <td>0.0</td>\n",
       "      <td>0.200001</td>\n",
       "      <td>0.102001</td>\n",
       "      <td>0.758300</td>\n",
       "      <td>24.090001</td>\n",
       "      <td>20.4120</td>\n",
       "      <td>-3.288000</td>\n",
       "      <td>0</td>\n",
       "      <td>NaN</td>\n",
       "    </tr>\n",
       "    <tr>\n",
       "      <th>385</th>\n",
       "      <td>386</td>\n",
       "      <td>2021-07-15</td>\n",
       "      <td>23.700001</td>\n",
       "      <td>23.700001</td>\n",
       "      <td>22.170000</td>\n",
       "      <td>22.379999</td>\n",
       "      <td>139000.0</td>\n",
       "      <td>0.0</td>\n",
       "      <td>0.0</td>\n",
       "      <td>-1.320002</td>\n",
       "      <td>-0.362000</td>\n",
       "      <td>0.780911</td>\n",
       "      <td>23.696000</td>\n",
       "      <td>20.3140</td>\n",
       "      <td>-2.065999</td>\n",
       "      <td>0</td>\n",
       "      <td>NaN</td>\n",
       "    </tr>\n",
       "  </tbody>\n",
       "</table>\n",
       "<p>20091 rows × 17 columns</p>\n",
       "</div>"
      ],
      "text/plain": [
       "     index       Date       Open       High        Low      Close    Volume  \\\n",
       "1        2 2021-05-03   9.740000   9.750000   9.700000   9.700000   13300.0   \n",
       "2        3 2021-05-04   9.700000   9.799000   9.700000   9.750000  103100.0   \n",
       "3        4 2021-05-05   9.700000   9.760000   9.700000   9.750000   35900.0   \n",
       "4        5 2021-05-06   9.730000   9.730000   9.730000   9.730000     100.0   \n",
       "5        6 2021-05-07   9.730000   9.730000   9.730000   9.730000       0.0   \n",
       "..     ...        ...        ...        ...        ...        ...       ...   \n",
       "381    382 2021-07-09  24.230000  25.540001  24.230000  24.870001   51100.0   \n",
       "382    383 2021-07-12  24.879999  24.945999  23.480000  24.120001   64100.0   \n",
       "383    384 2021-07-13  23.980000  24.180000  23.105000  23.410000   72800.0   \n",
       "384    385 2021-07-14  23.500000  24.285000  23.290001  23.700001   62100.0   \n",
       "385    386 2021-07-15  23.700001  23.700001  22.170000  22.379999  139000.0   \n",
       "\n",
       "     Dividends  Stock Splits  DailyChange  DailyChangeMean  DailyChangeStd  \\\n",
       "1          0.0           0.0    -0.040000        -0.055000        0.021214   \n",
       "2          0.0           0.0     0.050000        -0.020000        0.062450   \n",
       "3          0.0           0.0     0.050000        -0.002500        0.061847   \n",
       "4          0.0           0.0     0.000000        -0.002000        0.053573   \n",
       "5          0.0           0.0     0.000000         0.012000        0.038341   \n",
       "..         ...           ...          ...              ...             ...   \n",
       "381        0.0           0.0     0.640001         0.377500        0.580367   \n",
       "382        0.0           0.0    -0.759998         0.150000        0.715122   \n",
       "383        0.0           0.0    -0.570000        -0.007999        0.780109   \n",
       "384        0.0           0.0     0.200001         0.102001        0.758300   \n",
       "385        0.0           0.0    -1.320002        -0.362000        0.780911   \n",
       "\n",
       "      CloseAvg  CloseAvgDelayed  CloseFutureChange  Good  Adj Close  \n",
       "1     9.700000           9.8000           0.100000     1        NaN  \n",
       "2     9.716667           9.8480           0.098000     1        NaN  \n",
       "3     9.725000           9.8836           0.133600     1        NaN  \n",
       "4     9.726000           9.8376           0.107600     1        NaN  \n",
       "5     9.732000           9.8376           0.107600     1        NaN  \n",
       "..         ...              ...                ...   ...        ...  \n",
       "381  24.290000          20.8140          -4.056001     0        NaN  \n",
       "382  24.256001          20.4940          -3.626001     0        NaN  \n",
       "383  24.088000          20.4000          -3.010000     0        NaN  \n",
       "384  24.090001          20.4120          -3.288000     0        NaN  \n",
       "385  23.696000          20.3140          -2.065999     0        NaN  \n",
       "\n",
       "[20091 rows x 17 columns]"
      ]
     },
     "execution_count": 15,
     "metadata": {},
     "output_type": "execute_result"
    }
   ],
   "source": [
    "trainDF"
   ]
  },
  {
   "cell_type": "markdown",
   "metadata": {},
   "source": [
    "## Build a simple predictive model"
   ]
  },
  {
   "cell_type": "code",
   "execution_count": 16,
   "metadata": {},
   "outputs": [],
   "source": [
    "from sklearn.linear_model import LogisticRegression\n",
    "\n",
    "\n",
    "\n",
    "# clf = LogisticRegression(random_state=0).fit(X, y)\n",
    "# clf.predict(X[:2, :])\n",
    "# clf.predict_proba(X[:2, :])\n",
    "# clf.score(X, y)"
   ]
  },
  {
   "cell_type": "code",
   "execution_count": 27,
   "metadata": {},
   "outputs": [],
   "source": [
    "feats = [\"DailyChangeMean\", \"DailyChangeStd\" ]\n",
    "target = \"Good\""
   ]
  },
  {
   "cell_type": "code",
   "execution_count": 28,
   "metadata": {},
   "outputs": [],
   "source": [
    "X = trainDF[feats]\n",
    "y = trainDF[target]"
   ]
  },
  {
   "cell_type": "code",
   "execution_count": 29,
   "metadata": {},
   "outputs": [],
   "source": [
    "clf = LogisticRegression(random_state=0).fit(X, y)"
   ]
  },
  {
   "cell_type": "code",
   "execution_count": 30,
   "metadata": {},
   "outputs": [
    {
     "name": "stdout",
     "output_type": "stream",
     "text": [
      "Training set accuracy: 0.5292419491314518\n"
     ]
    }
   ],
   "source": [
    "s = clf.score(X,y)\n",
    "print( f\"Training set accuracy: {s}\")"
   ]
  },
  {
   "cell_type": "markdown",
   "metadata": {},
   "source": [
    "## Check generalization"
   ]
  },
  {
   "cell_type": "code",
   "execution_count": 31,
   "metadata": {},
   "outputs": [],
   "source": [
    "X_val = valDF[feats]\n",
    "y_val = valDF[target]"
   ]
  },
  {
   "cell_type": "code",
   "execution_count": 32,
   "metadata": {},
   "outputs": [
    {
     "name": "stdout",
     "output_type": "stream",
     "text": [
      "Validation set accuracy: 0.5324632230947904\n"
     ]
    }
   ],
   "source": [
    "s = clf.score(X_val,y_val)\n",
    "print( f\"Validation set accuracy: {s}\")"
   ]
  },
  {
   "cell_type": "markdown",
   "metadata": {},
   "source": [
    "## Visualize and Exploratory Data Analysis (EDA)\n"
   ]
  },
  {
   "cell_type": "code",
   "execution_count": null,
   "metadata": {},
   "outputs": [],
   "source": [
    "trainDF['Good'].value_counts()"
   ]
  },
  {
   "cell_type": "code",
   "execution_count": null,
   "metadata": {},
   "outputs": [],
   "source": []
  }
 ],
 "metadata": {
  "kernelspec": {
   "display_name": "Python 3",
   "language": "python",
   "name": "python3"
  },
  "language_info": {
   "codemirror_mode": {
    "name": "ipython",
    "version": 3
   },
   "file_extension": ".py",
   "mimetype": "text/x-python",
   "name": "python",
   "nbconvert_exporter": "python",
   "pygments_lexer": "ipython3",
   "version": "3.9.2+"
  }
 },
 "nbformat": 4,
 "nbformat_minor": 2
}
